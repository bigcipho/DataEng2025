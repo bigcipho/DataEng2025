{
 "cells": [
  {
   "cell_type": "code",
   "execution_count": 1,
   "id": "b1766c64-1777-4217-8671-5d1fc21bf4b2",
   "metadata": {},
   "outputs": [
    {
     "name": "stdout",
     "output_type": "stream",
     "text": [
      "Hello Codespaces\n"
     ]
    }
   ],
   "source": [
    "print('Hello Codespaces')"
   ]
  },
  {
   "cell_type": "code",
   "execution_count": null,
   "id": "f9443fb0-5ea9-4c9b-855e-c7d85bf8495f",
   "metadata": {},
   "outputs": [],
   "source": []
  }
 ],
 "metadata": {
  "kernelspec": {
   "display_name": "Python 3 (ipykernel)",
   "language": "python",
   "name": "python3"
  },
  "language_info": {
   "codemirror_mode": {
    "name": "ipython",
    "version": 3
   },
   "file_extension": ".py",
   "mimetype": "text/x-python",
   "name": "python",
   "nbconvert_exporter": "python",
   "pygments_lexer": "ipython3",
   "version": "3.12.1"
  }
 },
 "nbformat": 4,
 "nbformat_minor": 5
}
